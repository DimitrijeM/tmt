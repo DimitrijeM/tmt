{
 "cells": [
  {
   "cell_type": "code",
   "execution_count": 1,
   "id": "e003312b",
   "metadata": {},
   "outputs": [],
   "source": [
    "from bs4 import BeautifulSoup\n",
    "import requests\n",
    "import pandas as pd\n",
    "import numpy as np"
   ]
  },
  {
   "cell_type": "code",
   "execution_count": 2,
   "id": "2c87ce38",
   "metadata": {
    "scrolled": true
   },
   "outputs": [
    {
     "name": "stdout",
     "output_type": "stream",
     "text": [
      "<!DOCTYPE html>\n",
      "<!--[if IE 8]><html class=\"no-js lt-ie9\" lang=\"en\" > <![endif]-->\n",
      "<!--[if gt IE 8]><!-->\n",
      "<html class=\"no-js\" lang=\"en\">\n",
      " <!--<![endif]-->\n",
      " <head>\n",
      "  <meta charset=\"utf-8\"/>\n",
      "  <meta content=\"Docutils 0.17.1: http://docutils.sourceforge.net/\" name=\"generator\">\n",
      "   <meta content=\"API Reference\" property=\"og:title\"/>\n",
      "   <meta content=\"website\" property=\"og:type\"/>\n",
      "   <meta content=\"https://scikit-learn/stable/modules/classes.html\" property=\"og:url\"/>\n",
      "   <meta content=\"scikit-learn\" property=\"og:site_name\"/>\n",
      "   <meta content=\"This is the class and function reference of scikit-learn. Please refer to the full user guide for further details, as the class and function raw specifications may not be enough to give full guidel...\" property=\"og:description\"/>\n",
      "   <meta content=\"https://scikit-learn.org/stable/_static/scikit-learn-logo-small.png\" property=\"og:image\"/>\n",
      "   <meta content=\"scikit-learn\" property=\"og:image:alt\"/>\n",
      "   <meta content=\"width=device-width, initial-scale=1.0\" name=\n"
     ]
    }
   ],
   "source": [
    "main_url = \"https://scikit-learn.org/stable/modules/classes.html\"\n",
    "req = requests.get(main_url)\n",
    "soup = BeautifulSoup(req.text, \"html.parser\")\n",
    "print(soup.prettify()[:1000])"
   ]
  },
  {
   "cell_type": "code",
   "execution_count": 3,
   "id": "18354506",
   "metadata": {
    "scrolled": true
   },
   "outputs": [
    {
     "name": "stdout",
     "output_type": "stream",
     "text": [
      "[{'title': None, 'text': 'API Reference', 'href': '#'}, {'title': None, 'text': 'sklearn.base: Base classes and utility functions', 'href': '#module-sklearn.base'}, {'title': None, 'text': 'Base classes', 'href': '#base-classes'}, {'title': None, 'text': 'Functions', 'href': '#functions'}, {'title': None, 'text': 'sklearn.calibration: Probability Calibration', 'href': '#module-sklearn.calibration'}, {'title': None, 'text': 'sklearn.cluster: Clustering', 'href': '#module-sklearn.cluster'}, {'title': None, 'text': 'Classes', 'href': '#classes'}, {'title': None, 'text': 'Functions', 'href': '#id1'}, {'title': None, 'text': 'sklearn.compose: Composite Estimators', 'href': '#module-sklearn.compose'}, {'title': None, 'text': 'sklearn.covariance: Covariance Estimators', 'href': '#module-sklearn.covariance'}]\n"
     ]
    }
   ],
   "source": [
    "links = [{'title': link.get('title'), \n",
    "         'text': link.get_text(), \n",
    "         'href': link.get(\"href\")} for link in soup.find_all(\"a\", class_=\"reference internal\")]\n",
    "print(links[:10])"
   ]
  },
  {
   "cell_type": "code",
   "execution_count": 4,
   "id": "1badfdb0",
   "metadata": {},
   "outputs": [
    {
     "data": {
      "text/html": [
       "<div>\n",
       "<style scoped>\n",
       "    .dataframe tbody tr th:only-of-type {\n",
       "        vertical-align: middle;\n",
       "    }\n",
       "\n",
       "    .dataframe tbody tr th {\n",
       "        vertical-align: top;\n",
       "    }\n",
       "\n",
       "    .dataframe thead th {\n",
       "        text-align: right;\n",
       "    }\n",
       "</style>\n",
       "<table border=\"1\" class=\"dataframe\">\n",
       "  <thead>\n",
       "    <tr style=\"text-align: right;\">\n",
       "      <th></th>\n",
       "      <th>title</th>\n",
       "      <th>text</th>\n",
       "      <th>href</th>\n",
       "    </tr>\n",
       "  </thead>\n",
       "  <tbody>\n",
       "    <tr>\n",
       "      <th>0</th>\n",
       "      <td>None</td>\n",
       "      <td>API Reference</td>\n",
       "      <td>#</td>\n",
       "    </tr>\n",
       "    <tr>\n",
       "      <th>1</th>\n",
       "      <td>None</td>\n",
       "      <td>sklearn.base: Base classes and utility functions</td>\n",
       "      <td>#module-sklearn.base</td>\n",
       "    </tr>\n",
       "    <tr>\n",
       "      <th>2</th>\n",
       "      <td>None</td>\n",
       "      <td>Base classes</td>\n",
       "      <td>#base-classes</td>\n",
       "    </tr>\n",
       "    <tr>\n",
       "      <th>3</th>\n",
       "      <td>None</td>\n",
       "      <td>Functions</td>\n",
       "      <td>#functions</td>\n",
       "    </tr>\n",
       "    <tr>\n",
       "      <th>4</th>\n",
       "      <td>None</td>\n",
       "      <td>sklearn.calibration: Probability Calibration</td>\n",
       "      <td>#module-sklearn.calibration</td>\n",
       "    </tr>\n",
       "  </tbody>\n",
       "</table>\n",
       "</div>"
      ],
      "text/plain": [
       "  title                                              text  \\\n",
       "0  None                                     API Reference   \n",
       "1  None  sklearn.base: Base classes and utility functions   \n",
       "2  None                                      Base classes   \n",
       "3  None                                         Functions   \n",
       "4  None      sklearn.calibration: Probability Calibration   \n",
       "\n",
       "                          href  \n",
       "0                            #  \n",
       "1         #module-sklearn.base  \n",
       "2                #base-classes  \n",
       "3                   #functions  \n",
       "4  #module-sklearn.calibration  "
      ]
     },
     "execution_count": 4,
     "metadata": {},
     "output_type": "execute_result"
    }
   ],
   "source": [
    "df = pd.DataFrame(links) \n",
    "df.head()"
   ]
  },
  {
   "cell_type": "code",
   "execution_count": 5,
   "id": "57cc3693",
   "metadata": {},
   "outputs": [
    {
     "data": {
      "text/html": [
       "<div>\n",
       "<style scoped>\n",
       "    .dataframe tbody tr th:only-of-type {\n",
       "        vertical-align: middle;\n",
       "    }\n",
       "\n",
       "    .dataframe tbody tr th {\n",
       "        vertical-align: top;\n",
       "    }\n",
       "\n",
       "    .dataframe thead th {\n",
       "        text-align: right;\n",
       "    }\n",
       "</style>\n",
       "<table border=\"1\" class=\"dataframe\">\n",
       "  <thead>\n",
       "    <tr style=\"text-align: right;\">\n",
       "      <th></th>\n",
       "      <th>title</th>\n",
       "      <th>text</th>\n",
       "      <th>href</th>\n",
       "    </tr>\n",
       "  </thead>\n",
       "  <tbody>\n",
       "    <tr>\n",
       "      <th>75</th>\n",
       "      <td>sklearn.base</td>\n",
       "      <td>sklearn.base</td>\n",
       "      <td>#module-sklearn.base</td>\n",
       "    </tr>\n",
       "    <tr>\n",
       "      <th>76</th>\n",
       "      <td>sklearn.base.BaseEstimator</td>\n",
       "      <td>base.BaseEstimator</td>\n",
       "      <td>generated/sklearn.base.BaseEstimator.html#skle...</td>\n",
       "    </tr>\n",
       "    <tr>\n",
       "      <th>77</th>\n",
       "      <td>sklearn.base.BiclusterMixin</td>\n",
       "      <td>base.BiclusterMixin</td>\n",
       "      <td>generated/sklearn.base.BiclusterMixin.html#skl...</td>\n",
       "    </tr>\n",
       "    <tr>\n",
       "      <th>78</th>\n",
       "      <td>sklearn.base.ClassifierMixin</td>\n",
       "      <td>base.ClassifierMixin</td>\n",
       "      <td>generated/sklearn.base.ClassifierMixin.html#sk...</td>\n",
       "    </tr>\n",
       "    <tr>\n",
       "      <th>79</th>\n",
       "      <td>sklearn.base.ClusterMixin</td>\n",
       "      <td>base.ClusterMixin</td>\n",
       "      <td>generated/sklearn.base.ClusterMixin.html#sklea...</td>\n",
       "    </tr>\n",
       "  </tbody>\n",
       "</table>\n",
       "</div>"
      ],
      "text/plain": [
       "                           title                  text  \\\n",
       "75                  sklearn.base          sklearn.base   \n",
       "76    sklearn.base.BaseEstimator    base.BaseEstimator   \n",
       "77   sklearn.base.BiclusterMixin   base.BiclusterMixin   \n",
       "78  sklearn.base.ClassifierMixin  base.ClassifierMixin   \n",
       "79     sklearn.base.ClusterMixin     base.ClusterMixin   \n",
       "\n",
       "                                                 href  \n",
       "75                               #module-sklearn.base  \n",
       "76  generated/sklearn.base.BaseEstimator.html#skle...  \n",
       "77  generated/sklearn.base.BiclusterMixin.html#skl...  \n",
       "78  generated/sklearn.base.ClassifierMixin.html#sk...  \n",
       "79  generated/sklearn.base.ClusterMixin.html#sklea...  "
      ]
     },
     "execution_count": 5,
     "metadata": {},
     "output_type": "execute_result"
    }
   ],
   "source": [
    "only_with_title = df[~df.title.isna()]\n",
    "only_with_title.head()"
   ]
  },
  {
   "cell_type": "code",
   "execution_count": 6,
   "id": "00f3d74e",
   "metadata": {},
   "outputs": [],
   "source": [
    "only_with_title.to_csv('data/sklearn_functions.csv', index=False)"
   ]
  }
 ],
 "metadata": {
  "kernelspec": {
   "display_name": "Python 3",
   "language": "python",
   "name": "python3"
  },
  "language_info": {
   "codemirror_mode": {
    "name": "ipython",
    "version": 3
   },
   "file_extension": ".py",
   "mimetype": "text/x-python",
   "name": "python",
   "nbconvert_exporter": "python",
   "pygments_lexer": "ipython3",
   "version": "3.8.8"
  }
 },
 "nbformat": 4,
 "nbformat_minor": 5
}
